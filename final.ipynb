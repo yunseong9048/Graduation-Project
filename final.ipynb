{
 "cells": [
  {
   "cell_type": "code",
   "execution_count": null,
   "id": "cecf0d4e-ced1-44af-8f5e-62c30aa75e1f",
   "metadata": {},
   "outputs": [],
   "source": [
    "#!pip install langchain"
   ]
  },
  {
   "cell_type": "code",
   "execution_count": null,
   "id": "224576e8-7888-4b68-8fec-46d5703009da",
   "metadata": {},
   "outputs": [],
   "source": [
    "#!pip install openai"
   ]
  },
  {
   "cell_type": "code",
   "execution_count": null,
   "id": "531ef012-dfb3-4416-a194-8f1ce51be7c0",
   "metadata": {},
   "outputs": [],
   "source": [
    "#!pip install huggingface-hub"
   ]
  },
  {
   "cell_type": "code",
   "execution_count": 1,
   "id": "913bf86c-ce06-4b4b-be6f-deeba4e96930",
   "metadata": {
    "collapsed": true,
    "jupyter": {
     "outputs_hidden": true,
     "source_hidden": true
    }
   },
   "outputs": [
    {
     "name": "stdout",
     "output_type": "stream",
     "text": [
      "Collecting streamlit\n",
      "  Downloading streamlit-1.12.0-py2.py3-none-any.whl (9.1 MB)\n",
      "Requirement already satisfied: requests>=2.4 in c:\\users\\yunse\\anaconda3\\lib\\site-packages (from streamlit) (2.26.0)\n",
      "Requirement already satisfied: gitpython!=3.1.19 in c:\\users\\yunse\\anaconda3\\lib\\site-packages (from streamlit) (3.1.43)\n",
      "Collecting validators>=0.2\n",
      "  Downloading validators-0.34.0-py3-none-any.whl (43 kB)\n",
      "Collecting altair>=3.2.0\n",
      "  Downloading altair-5.4.1-py3-none-any.whl (658 kB)\n",
      "Requirement already satisfied: importlib-metadata>=1.4 in c:\\users\\yunse\\anaconda3\\lib\\site-packages (from streamlit) (4.8.1)\n",
      "Requirement already satisfied: semver in c:\\users\\yunse\\anaconda3\\lib\\site-packages (from streamlit) (3.0.2)\n",
      "Collecting pympler>=0.9\n",
      "  Downloading Pympler-1.1-py3-none-any.whl (165 kB)\n",
      "Requirement already satisfied: pillow>=6.2.0 in c:\\users\\yunse\\anaconda3\\lib\\site-packages (from streamlit) (8.4.0)\n",
      "Requirement already satisfied: click>=7.0 in c:\\users\\yunse\\anaconda3\\lib\\site-packages (from streamlit) (8.1.7)\n",
      "Requirement already satisfied: typing-extensions>=3.10.0.0 in c:\\users\\yunse\\anaconda3\\lib\\site-packages (from streamlit) (4.11.0)\n",
      "Requirement already satisfied: python-dateutil in c:\\users\\yunse\\anaconda3\\lib\\site-packages (from streamlit) (2.8.2)\n",
      "Collecting cachetools>=4.0\n",
      "  Downloading cachetools-5.5.0-py3-none-any.whl (9.5 kB)\n",
      "Requirement already satisfied: numpy in c:\\users\\yunse\\anaconda3\\lib\\site-packages (from streamlit) (1.20.3)\n",
      "Requirement already satisfied: packaging>=14.1 in c:\\users\\yunse\\anaconda3\\lib\\site-packages (from streamlit) (21.0)\n",
      "Collecting pyarrow>=4.0\n",
      "  Downloading pyarrow-17.0.0-cp39-cp39-win_amd64.whl (25.1 MB)\n",
      "Collecting protobuf<4,>=3.12\n",
      "  Downloading protobuf-3.20.3-cp39-cp39-win_amd64.whl (904 kB)\n",
      "Requirement already satisfied: toml in c:\\users\\yunse\\anaconda3\\lib\\site-packages (from streamlit) (0.10.2)\n",
      "Requirement already satisfied: pandas>=0.21.0 in c:\\users\\yunse\\anaconda3\\lib\\site-packages (from streamlit) (1.3.4)\n",
      "Collecting tzlocal>=1.1\n",
      "  Downloading tzlocal-5.2-py3-none-any.whl (17 kB)\n",
      "Collecting pydeck>=0.1.dev5\n",
      "  Downloading pydeck-0.9.1-py2.py3-none-any.whl (6.9 MB)\n",
      "Requirement already satisfied: watchdog in c:\\users\\yunse\\anaconda3\\lib\\site-packages (from streamlit) (2.1.3)\n",
      "Collecting blinker>=1.0.0\n",
      "  Downloading blinker-1.8.2-py3-none-any.whl (9.5 kB)\n",
      "Requirement already satisfied: rich>=10.11.0 in c:\\users\\yunse\\anaconda3\\lib\\site-packages (from streamlit) (13.7.1)\n",
      "Requirement already satisfied: tornado>=5.0 in c:\\users\\yunse\\anaconda3\\lib\\site-packages (from streamlit) (6.1)\n",
      "Requirement already satisfied: jsonschema>=3.0 in c:\\users\\yunse\\anaconda3\\lib\\site-packages (from altair>=3.2.0->streamlit) (3.2.0)\n",
      "Collecting narwhals>=1.5.2\n",
      "  Downloading narwhals-1.8.2-py3-none-any.whl (167 kB)\n",
      "Requirement already satisfied: jinja2 in c:\\users\\yunse\\anaconda3\\lib\\site-packages (from altair>=3.2.0->streamlit) (2.11.3)\n",
      "Requirement already satisfied: colorama in c:\\users\\yunse\\anaconda3\\lib\\site-packages (from click>=7.0->streamlit) (0.4.4)\n",
      "Requirement already satisfied: gitdb<5,>=4.0.1 in c:\\users\\yunse\\anaconda3\\lib\\site-packages (from gitpython!=3.1.19->streamlit) (4.0.11)\n",
      "Requirement already satisfied: smmap<6,>=3.0.1 in c:\\users\\yunse\\anaconda3\\lib\\site-packages (from gitdb<5,>=4.0.1->gitpython!=3.1.19->streamlit) (5.0.1)\n",
      "Requirement already satisfied: zipp>=0.5 in c:\\users\\yunse\\anaconda3\\lib\\site-packages (from importlib-metadata>=1.4->streamlit) (3.6.0)\n",
      "Requirement already satisfied: setuptools in c:\\users\\yunse\\anaconda3\\lib\\site-packages (from jsonschema>=3.0->altair>=3.2.0->streamlit) (58.0.4)\n",
      "Requirement already satisfied: attrs>=17.4.0 in c:\\users\\yunse\\anaconda3\\lib\\site-packages (from jsonschema>=3.0->altair>=3.2.0->streamlit) (23.2.0)\n",
      "Requirement already satisfied: pyrsistent>=0.14.0 in c:\\users\\yunse\\anaconda3\\lib\\site-packages (from jsonschema>=3.0->altair>=3.2.0->streamlit) (0.18.0)\n",
      "Requirement already satisfied: six>=1.11.0 in c:\\users\\yunse\\anaconda3\\lib\\site-packages (from jsonschema>=3.0->altair>=3.2.0->streamlit) (1.16.0)\n",
      "Requirement already satisfied: pyparsing>=2.0.2 in c:\\users\\yunse\\anaconda3\\lib\\site-packages (from packaging>=14.1->streamlit) (3.0.4)\n",
      "Requirement already satisfied: pytz>=2017.3 in c:\\users\\yunse\\anaconda3\\lib\\site-packages (from pandas>=0.21.0->streamlit) (2021.3)\n",
      "Requirement already satisfied: MarkupSafe>=0.23 in c:\\users\\yunse\\anaconda3\\lib\\site-packages (from jinja2->altair>=3.2.0->streamlit) (1.1.1)\n",
      "Requirement already satisfied: pywin32>=226 in c:\\users\\yunse\\anaconda3\\lib\\site-packages (from pympler>=0.9->streamlit) (228)\n",
      "Requirement already satisfied: certifi>=2017.4.17 in c:\\users\\yunse\\anaconda3\\lib\\site-packages (from requests>=2.4->streamlit) (2021.10.8)\n",
      "Requirement already satisfied: urllib3<1.27,>=1.21.1 in c:\\users\\yunse\\anaconda3\\lib\\site-packages (from requests>=2.4->streamlit) (1.26.7)\n",
      "Requirement already satisfied: idna<4,>=2.5 in c:\\users\\yunse\\anaconda3\\lib\\site-packages (from requests>=2.4->streamlit) (3.2)\n",
      "Requirement already satisfied: charset-normalizer~=2.0.0 in c:\\users\\yunse\\anaconda3\\lib\\site-packages (from requests>=2.4->streamlit) (2.0.4)\n",
      "Requirement already satisfied: markdown-it-py>=2.2.0 in c:\\users\\yunse\\anaconda3\\lib\\site-packages (from rich>=10.11.0->streamlit) (3.0.0)\n",
      "Requirement already satisfied: pygments<3.0.0,>=2.13.0 in c:\\users\\yunse\\anaconda3\\lib\\site-packages (from rich>=10.11.0->streamlit) (2.18.0)\n",
      "Requirement already satisfied: mdurl~=0.1 in c:\\users\\yunse\\anaconda3\\lib\\site-packages (from markdown-it-py>=2.2.0->rich>=10.11.0->streamlit) (0.1.2)\n",
      "Requirement already satisfied: tzdata in c:\\users\\yunse\\anaconda3\\lib\\site-packages (from tzlocal>=1.1->streamlit) (2024.1)\n",
      "Installing collected packages: narwhals, validators, tzlocal, pympler, pydeck, pyarrow, protobuf, cachetools, blinker, altair, streamlit\n",
      "Successfully installed altair-5.4.1 blinker-1.8.2 cachetools-5.5.0 narwhals-1.8.2 protobuf-3.20.3 pyarrow-17.0.0 pydeck-0.9.1 pympler-1.1 streamlit-1.12.0 tzlocal-5.2 validators-0.34.0\n"
     ]
    }
   ],
   "source": [
    "#!pip install streamlit"
   ]
  },
  {
   "cell_type": "code",
   "execution_count": null,
   "id": "fdc499bb-0728-4319-9bdb-97220790af4c",
   "metadata": {},
   "outputs": [],
   "source": [
    "#!pip install streamlit-chat"
   ]
  },
  {
   "cell_type": "code",
   "execution_count": null,
   "id": "afbfcc90-2074-4199-a595-c78517648241",
   "metadata": {},
   "outputs": [],
   "source": [
    "#!pip install langchain_community"
   ]
  },
  {
   "cell_type": "code",
   "execution_count": null,
   "id": "9f40d18c-91b4-4bc9-be4d-25e7db8ec2b8",
   "metadata": {},
   "outputs": [],
   "source": [
    "#!pip install langchain-openai"
   ]
  },
  {
   "cell_type": "code",
   "execution_count": null,
   "id": "19afbe31-50d8-44a4-8fb2-43386146921f",
   "metadata": {},
   "outputs": [],
   "source": [
    "#!pip install pypdf"
   ]
  },
  {
   "cell_type": "code",
   "execution_count": null,
   "id": "0086de07-297d-4c76-9d86-4c4bbd3d6acb",
   "metadata": {},
   "outputs": [],
   "source": [
    "#!pip install tiktoken"
   ]
  },
  {
   "cell_type": "code",
   "execution_count": null,
   "id": "8fee5e68-8a56-483a-aaa4-b0d09e5584bc",
   "metadata": {},
   "outputs": [],
   "source": [
    "#!pip install sentence-transformers"
   ]
  },
  {
   "cell_type": "code",
   "execution_count": null,
   "id": "16b48f5d-0638-41b5-9c0f-e1955520f087",
   "metadata": {},
   "outputs": [],
   "source": [
    "#!pip install unstructured"
   ]
  },
  {
   "cell_type": "code",
   "execution_count": null,
   "id": "26bbd5bc-ffd0-4ef5-b3e4-b7a40986f989",
   "metadata": {},
   "outputs": [],
   "source": [
    "#!pip install chromadb"
   ]
  },
  {
   "cell_type": "code",
   "execution_count": 15,
   "id": "03c3bc61-d8be-47b5-8618-e8e5768f8e4f",
   "metadata": {},
   "outputs": [
    {
     "name": "stderr",
     "output_type": "stream",
     "text": [
      "2024-09-20 00:12:40.380 Thread 'MainThread': missing ScriptRunContext! This warning can be ignored when running in bare mode.\n",
      "2024-09-20 00:12:40.380 Thread 'MainThread': missing ScriptRunContext! This warning can be ignored when running in bare mode.\n",
      "2024-09-20 00:12:40.386 Thread 'MainThread': missing ScriptRunContext! This warning can be ignored when running in bare mode.\n",
      "2024-09-20 00:12:40.389 Thread 'MainThread': missing ScriptRunContext! This warning can be ignored when running in bare mode.\n",
      "2024-09-20 00:12:40.391 Thread 'MainThread': missing ScriptRunContext! This warning can be ignored when running in bare mode.\n",
      "2024-09-20 00:12:40.394 Thread 'MainThread': missing ScriptRunContext! This warning can be ignored when running in bare mode.\n",
      "2024-09-20 00:12:40.396 Thread 'MainThread': missing ScriptRunContext! This warning can be ignored when running in bare mode.\n",
      "2024-09-20 00:12:40.397 Thread 'MainThread': missing ScriptRunContext! This warning can be ignored when running in bare mode.\n",
      "2024-09-20 00:12:40.399 Thread 'MainThread': missing ScriptRunContext! This warning can be ignored when running in bare mode.\n",
      "2024-09-20 00:12:40.399 Thread 'MainThread': missing ScriptRunContext! This warning can be ignored when running in bare mode.\n",
      "2024-09-20 00:12:40.400 Thread 'MainThread': missing ScriptRunContext! This warning can be ignored when running in bare mode.\n",
      "2024-09-20 00:12:40.401 Thread 'MainThread': missing ScriptRunContext! This warning can be ignored when running in bare mode.\n",
      "2024-09-20 00:12:40.402 Thread 'MainThread': missing ScriptRunContext! This warning can be ignored when running in bare mode.\n",
      "2024-09-20 00:12:40.403 Thread 'MainThread': missing ScriptRunContext! This warning can be ignored when running in bare mode.\n",
      "2024-09-20 00:12:40.403 Thread 'MainThread': missing ScriptRunContext! This warning can be ignored when running in bare mode.\n",
      "2024-09-20 00:12:40.408 Thread 'MainThread': missing ScriptRunContext! This warning can be ignored when running in bare mode.\n",
      "2024-09-20 00:12:40.409 Thread 'MainThread': missing ScriptRunContext! This warning can be ignored when running in bare mode.\n",
      "2024-09-20 00:12:40.409 Thread 'MainThread': missing ScriptRunContext! This warning can be ignored when running in bare mode.\n",
      "2024-09-20 00:12:40.412 Thread 'MainThread': missing ScriptRunContext! This warning can be ignored when running in bare mode.\n",
      "2024-09-20 00:12:40.412 Thread 'MainThread': missing ScriptRunContext! This warning can be ignored when running in bare mode.\n",
      "2024-09-20 00:12:40.415 Thread 'MainThread': missing ScriptRunContext! This warning can be ignored when running in bare mode.\n",
      "2024-09-20 00:12:40.417 Thread 'MainThread': missing ScriptRunContext! This warning can be ignored when running in bare mode.\n",
      "2024-09-20 00:12:40.418 Thread 'MainThread': missing ScriptRunContext! This warning can be ignored when running in bare mode.\n",
      "2024-09-20 00:12:40.420 Thread 'MainThread': missing ScriptRunContext! This warning can be ignored when running in bare mode.\n",
      "2024-09-20 00:12:40.420 Thread 'MainThread': missing ScriptRunContext! This warning can be ignored when running in bare mode.\n",
      "2024-09-20 00:12:40.420 Thread 'MainThread': missing ScriptRunContext! This warning can be ignored when running in bare mode.\n",
      "2024-09-20 00:12:40.420 Thread 'MainThread': missing ScriptRunContext! This warning can be ignored when running in bare mode.\n",
      "2024-09-20 00:12:40.450 Thread 'MainThread': missing ScriptRunContext! This warning can be ignored when running in bare mode.\n",
      "2024-09-20 00:12:40.457 Thread 'MainThread': missing ScriptRunContext! This warning can be ignored when running in bare mode.\n",
      "2024-09-20 00:12:40.457 Thread 'MainThread': missing ScriptRunContext! This warning can be ignored when running in bare mode.\n",
      "2024-09-20 00:12:40.457 Thread 'MainThread': missing ScriptRunContext! This warning can be ignored when running in bare mode.\n",
      "2024-09-20 00:12:40.461 Thread 'MainThread': missing ScriptRunContext! This warning can be ignored when running in bare mode.\n",
      "2024-09-20 00:12:40.462 Thread 'MainThread': missing ScriptRunContext! This warning can be ignored when running in bare mode.\n",
      "2024-09-20 00:12:40.464 Thread 'MainThread': missing ScriptRunContext! This warning can be ignored when running in bare mode.\n"
     ]
    }
   ],
   "source": [
    "import streamlit as st\n",
    "from streamlit_chat import message\n",
    "from langchain.embeddings.openai import OpenAIEmbeddings\n",
    "from langchain.chat_models import ChatOpenAI\n",
    "from langchain.chains import ConversationalRetrievalChain\n",
    "from langchain.vectorstores import Chroma\n",
    "from langchain.document_loaders import PyPDFLoader\n",
    "from langchain.text_splitter import RecursiveCharacterTextSplitter\n",
    "from langchain.chains import LLMChain\n",
    "from langchain import PromptTemplate\n",
    "import os\n",
    "\n",
    "\n",
    "st.sidebar.title('교수님 선택')\n",
    "\n",
    "select_professer=st.sidebar.selectbox(\n",
    "    '교수님을 선택하세요',\n",
    "    ['신동군', '서의성','윤희용','정진규','조형민','한태희','홍석인','황대준']\n",
    ")\n",
    "\n",
    "st.title(\"컴퓨터구조개론 강의 챗봇\")\n",
    "st.subheader(select_professer)\n",
    "\n",
    "# OpenAI API 키 설정\n",
    "os.environ[\"OPENAI_API_KEY\"] = \"sk-\"\n",
    "\n",
    "# 로컬 PDF 파일 경로\n",
    "pdf_path = \"c:/data/컴퓨터구조개론_pdf/컴퓨터구조개론_신동군.pdf\"\n",
    "if(select_professer=='신동군'): pdf_path = \"c:/data/컴퓨터구조개론_pdf/컴퓨터구조개론_신동군.pdf\"\n",
    "if(select_professer=='서의성'): pdf_path = \"c:/data/컴퓨터구조개론_pdf/컴퓨터구조개론_서의성.pdf\"\n",
    "if(select_professer=='윤희용'): pdf_path = \"c:/data/컴퓨터구조개론_pdf/컴퓨터구조개론_윤희용.pdf\"\n",
    "if(select_professer=='정진규'): pdf_path = \"c:/data/컴퓨터구조개론_pdf/컴퓨터구조개론_정진규.pdf\"\n",
    "if(select_professer=='조형민'): pdf_path = \"c:/data/컴퓨터구조개론_pdf/컴퓨터구조개론_조형민.pdf\"\n",
    "if(select_professer=='한태희'): pdf_path = \"c:/data/컴퓨터구조개론_pdf/컴퓨터구조개론_한태희.pdf\"\n",
    "if(select_professer=='홍석인'): pdf_path = \"c:/data/컴퓨터구조개론_pdf/컴퓨터구조개론_홍석인.pdf\"\n",
    "if(select_professer=='황대준'): pdf_path = \"c:/data/컴퓨터구조개론_pdf/컴퓨터구조개론_황대준.pdf\"\n",
    "\n",
    "\n",
    "# PDF 로드 및 청크 분할\n",
    "def load_and_split_pdf(pdf_path, chunk_size=1000, chunk_overlap=0):\n",
    "    loader = PyPDFLoader(pdf_path)\n",
    "    documents = loader.load()\n",
    "    text_splitter = RecursiveCharacterTextSplitter(chunk_size=chunk_size, chunk_overlap=chunk_overlap)\n",
    "    docs = text_splitter.split_documents(documents)\n",
    "    return docs\n",
    "\n",
    "# 문서 청크 로드\n",
    "docs = load_and_split_pdf(pdf_path)\n",
    "\n",
    "# 문서 벡터 저장소 설정\n",
    "embeddings = OpenAIEmbeddings()\n",
    "db = Chroma.from_documents(docs, embeddings, persist_directory=\"c:/data\")\n",
    "\n",
    "# ConversationalRetrievalChain 설정\n",
    "chain = ConversationalRetrievalChain.from_llm(\n",
    "    llm=ChatOpenAI(temperature=0.1, model_name='gpt-4'),\n",
    "    retriever=db.as_retriever()\n",
    ")\n",
    "\n",
    "\n",
    "###pdf 요약에 관련된 부분\n",
    "prompt1 = PromptTemplate(\n",
    "    input_variables=['docs'],\n",
    "    template=\"다음 문장을 3문장으로 요약하세요.\\n\\n{docs}\"\n",
    ")\n",
    "\n",
    "llm = ChatOpenAI(temperature=0.1,  # 창의성 0.1으로 설정 \n",
    "                 max_tokens=2048,  # 최대 토큰수\n",
    "                 model_name='gpt-4',  # 모델명\n",
    "                )\n",
    "\n",
    "chain1 = LLMChain(llm=llm, prompt=prompt1, output_key=\"pdf_summary\")\n",
    "result=chain1.run(docs=docs)\n",
    "\n",
    "# Streamlit 앱 설정\n",
    "st.write(result)\n",
    "\n",
    "\n",
    "\n",
    "def conversational_chat(query):\n",
    "    history = st.session_state['history'][-5:] if len(st.session_state['history']) > 5 else st.session_state['history']\n",
    "    result = chain({\"question\": query, \"chat_history\": st.session_state['history']})\n",
    "    st.session_state['history'].append((query, result[\"answer\"]))\n",
    "    return result[\"answer\"]\n",
    "    \n",
    "    \n",
    "# 대화 기록 초기화\n",
    "if 'history' not in st.session_state:\n",
    "    st.session_state['history'] = []\n",
    "\n",
    "if 'generated' not in st.session_state:\n",
    "    st.session_state['generated'] = [\"안녕하세요! 강의에 관해 질문해보세요.\"]\n",
    "\n",
    "if 'past' not in st.session_state:\n",
    "    st.session_state['past'] = [\"안녕하세요!\"]\n",
    "\n",
    "# 챗봇 대화 컨테이너\n",
    "response_container = st.container()\n",
    "# 사용자 입력 컨테이너\n",
    "container = st.container()\n",
    "\n",
    "\n",
    "with container:\n",
    "    with st.form(key='Conv_Question', clear_on_submit=True):\n",
    "        user_input = st.text_input(\"Query:\", placeholder=\"강의에 대해 질문해보세요:\", key='input')\n",
    "        submit_button = st.form_submit_button(label='Send')\n",
    "        \n",
    "    if submit_button and user_input:\n",
    "        output = conversational_chat(user_input)\n",
    "        st.session_state['past'].append(user_input)\n",
    "        st.session_state['generated'].append(output)\n",
    "\n",
    "if st.session_state['generated']:\n",
    "    with response_container:\n",
    "        for i in range(len(st.session_state['generated'])):\n",
    "            message(st.session_state[\"past\"][i], is_user=True, key=str(i) + '_user', avatar_style=\"fun-emoji\", seed=\"Nala\")\n",
    "            message(st.session_state[\"generated\"][i], key=str(i), avatar_style=\"bottts\", seed=\"Fluffy\")\n"
   ]
  }
 ],
 "metadata": {
  "kernelspec": {
   "display_name": "llm",
   "language": "python",
   "name": "llm"
  },
  "language_info": {
   "codemirror_mode": {
    "name": "ipython",
    "version": 3
   },
   "file_extension": ".py",
   "mimetype": "text/x-python",
   "name": "python",
   "nbconvert_exporter": "python",
   "pygments_lexer": "ipython3",
   "version": "3.8.19"
  }
 },
 "nbformat": 4,
 "nbformat_minor": 5
}
